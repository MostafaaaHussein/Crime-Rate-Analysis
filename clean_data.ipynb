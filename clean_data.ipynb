{
 "cells": [
  {
   "cell_type": "code",
   "execution_count": 1,
   "id": "32ebbe60-e0d1-479b-8262-0d4cd5dc9818",
   "metadata": {},
   "outputs": [],
   "source": [
    "import pandas as pd"
   ]
  },
  {
   "cell_type": "code",
   "execution_count": 2,
   "id": "bdda277b-f385-4163-baf9-275e28ceef8b",
   "metadata": {},
   "outputs": [],
   "source": [
    "df = pd.read_csv(\"C:/Users/Acer/Desktop/train.csv\")"
   ]
  },
  {
   "cell_type": "markdown",
   "id": "3ec70c75",
   "metadata": {},
   "source": []
  },
  {
   "cell_type": "code",
   "execution_count": 3,
   "id": "c9b697f6-77c6-4a6b-ba01-25b650d13967",
   "metadata": {},
   "outputs": [
    {
     "name": "stdout",
     "output_type": "stream",
     "text": [
      "\n",
      "Available Columns:\n",
      "Index(['Dates', 'Category', 'Descript', 'DayOfWeek', 'PdDistrict',\n",
      "       'Resolution', 'Address', 'X', 'Y'],\n",
      "      dtype='object')\n"
     ]
    }
   ],
   "source": [
    "print(\"\\nAvailable Columns:\")\n",
    "print(df.columns)"
   ]
  },
  {
   "cell_type": "code",
   "execution_count": 4,
   "id": "8b4a6363-8f79-4c66-aed9-ba4ebd71c928",
   "metadata": {},
   "outputs": [],
   "source": [
    "important_columns = ['Dates', 'Category', 'Descript', 'DayOfWeek', 'PdDistrict', 'Address', 'X', 'Y']\n",
    "df = df[important_columns]"
   ]
  },
  {
   "cell_type": "code",
   "execution_count": 5,
   "id": "7d1c0cde-6a77-41c4-b92f-df05a499b78c",
   "metadata": {},
   "outputs": [
    {
     "name": "stdout",
     "output_type": "stream",
     "text": [
      "\n",
      "Missing values before cleaning:\n",
      "Dates         0\n",
      "Category      0\n",
      "Descript      0\n",
      "DayOfWeek     0\n",
      "PdDistrict    0\n",
      "Address       0\n",
      "X             0\n",
      "Y             0\n",
      "dtype: int64\n"
     ]
    }
   ],
   "source": [
    "print(\"\\nMissing values before cleaning:\")\n",
    "print(df.isnull().sum())"
   ]
  },
  {
   "cell_type": "code",
   "execution_count": 6,
   "id": "c9dc5f21-a141-4c5f-a9ed-357dda32fb11",
   "metadata": {},
   "outputs": [
    {
     "name": "stdout",
     "output_type": "stream",
     "text": [
      "\n",
      "Data Types before fixing:\n",
      "Dates          object\n",
      "Category       object\n",
      "Descript       object\n",
      "DayOfWeek      object\n",
      "PdDistrict     object\n",
      "Address        object\n",
      "X             float64\n",
      "Y             float64\n",
      "dtype: object\n"
     ]
    }
   ],
   "source": [
    "# Drop rows with missing important values\n",
    "df.dropna(subset=important_columns, inplace=True)\n",
    "\n",
    "print(\"\\nData Types before fixing:\")\n",
    "print(df.dtypes)"
   ]
  },
  {
   "cell_type": "code",
   "execution_count": 7,
   "id": "be609323-6e46-437f-8489-a7acf8f5be7e",
   "metadata": {},
   "outputs": [],
   "source": [
    "# Convert 'Dates' column to datetime if it's not already\n",
    "df['Dates'] = pd.to_datetime(df['Dates'], errors='coerce')"
   ]
  },
  {
   "cell_type": "code",
   "execution_count": 8,
   "id": "83c73327-7cd7-4f35-b095-a0d5cd26e55e",
   "metadata": {},
   "outputs": [],
   "source": [
    "# After conversion, remove any rows where 'Dates' couldn't be converted\n",
    "df = df.dropna(subset=['Dates'])"
   ]
  },
  {
   "cell_type": "code",
   "execution_count": 9,
   "id": "c7f752fc-b01c-46a3-a6da-9f285b40096e",
   "metadata": {},
   "outputs": [
    {
     "name": "stdout",
     "output_type": "stream",
     "text": [
      "\n",
      "Data Types after fixing:\n",
      "Dates         datetime64[ns]\n",
      "Category              object\n",
      "Descript              object\n",
      "DayOfWeek             object\n",
      "PdDistrict            object\n",
      "Address               object\n",
      "X                    float64\n",
      "Y                    float64\n",
      "dtype: object\n"
     ]
    }
   ],
   "source": [
    "print(\"\\nData Types after fixing:\")\n",
    "print(df.dtypes)"
   ]
  },
  {
   "cell_type": "code",
   "execution_count": 11,
   "id": "f0723f5b-228b-4a95-8c3e-9ecb4dcb2942",
   "metadata": {},
   "outputs": [
    {
     "name": "stdout",
     "output_type": "stream",
     "text": [
      "\n",
      "Missing values after cleaning:\n",
      "Dates         0\n",
      "Category      0\n",
      "Descript      0\n",
      "DayOfWeek     0\n",
      "PdDistrict    0\n",
      "Address       0\n",
      "X             0\n",
      "Y             0\n",
      "dtype: int64\n"
     ]
    }
   ],
   "source": [
    "print(\"\\nMissing values after cleaning:\")\n",
    "print(df.isnull().sum())"
   ]
  },
  {
   "cell_type": "code",
   "execution_count": 12,
   "id": "0a23f82d-c5b2-4d89-b6a0-20473895da34",
   "metadata": {},
   "outputs": [
    {
     "name": "stdout",
     "output_type": "stream",
     "text": [
      "\n",
      "Cleaned data saved successfully as 'clean_train.csv'!\n"
     ]
    }
   ],
   "source": [
    "df.to_csv(\"C:/Users/Acer/Desktop/clean_train.csv\", index=False)\n",
    "print(\"\\nCleaned data saved successfully as 'clean_train.csv'!\")"
   ]
  },
  {
   "cell_type": "code",
   "execution_count": null,
   "id": "1c92ce1b-8618-40c3-b627-cbbaac1dc94f",
   "metadata": {},
   "outputs": [],
   "source": []
  }
 ],
 "metadata": {
  "kernelspec": {
   "display_name": "Python 3 (ipykernel)",
   "language": "python",
   "name": "python3"
  },
  "language_info": {
   "codemirror_mode": {
    "name": "ipython",
    "version": 3
   },
   "file_extension": ".py",
   "mimetype": "text/x-python",
   "name": "python",
   "nbconvert_exporter": "python",
   "pygments_lexer": "ipython3",
   "version": "3.13.2"
  }
 },
 "nbformat": 4,
 "nbformat_minor": 5
}
